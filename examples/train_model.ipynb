{
 "cells": [
  {
   "cell_type": "code",
   "execution_count": 2,
   "metadata": {},
   "outputs": [],
   "source": [
    "import sys\n",
    "sys.path.append('./model')\n",
    "sys.path.append('./model/modules')\n",
    "\n",
    "import dataset\n",
    "import loader\n",
    "import model_cINN\n",
    "\n",
    "import torch"
   ]
  },
  {
   "cell_type": "code",
   "execution_count": 3,
   "metadata": {},
   "outputs": [],
   "source": [
    "paths_to_PS = [\"./from_cloud/simData_68500.bp\", \"./from_cloud/simData_68500.bp\"]\n",
    "paths_to_radiation = [\"./from_cloud/b_radAmplitudes_68500_0_0_0.h5\", \"./from_cloud/b_radAmplitudes_68500_0_0_0.h5\"]"
   ]
  },
  {
   "cell_type": "code",
   "execution_count": 6,
   "metadata": {
    "tags": []
   },
   "outputs": [
    {
     "name": "stdout",
     "output_type": "stream",
     "text": [
      "Number of simulations:  2\n",
      "Number of chunks:  10\n",
      "Get min/max from phase space data...\n",
      "PS Minima: \n",
      "\t tensor([ 0.0000,  0.0073,  0.0000, -0.5310,  0.0000, -0.1218])\n",
      "PS Maxima: \n",
      "\t tensor([5.8319e+02, 9.7963e-01, 9.9243e-01, 9.1493e-36, 4.1451e+01, 1.3520e-01])\n",
      "Get min/max from radiation data...\n",
      "PS Minima: \n",
      "\t tensor([-326833.2500, -326833.2500, -326833.2500, -326833.2500, -326833.2500,\n",
      "        -326833.2500])\n",
      "PS Maxima: \n",
      "\t tensor([310444.7500, 310444.7500, 310444.7500, 310444.7500, 310444.7500,\n",
      "        310444.7500])\n"
     ]
    }
   ],
   "source": [
    "dataset_tr = dataset.PCDataset(items_phase_space=paths_to_PS,\n",
    "                 items_radiation=paths_to_radiation,\n",
    "                 num_points=100,\n",
    "                 num_files=-1,\n",
    "                 chunk_size=20,\n",
    "                 normalize=True, a=0., b=1.)"
   ]
  },
  {
   "cell_type": "code",
   "execution_count": 7,
   "metadata": {},
   "outputs": [
    {
     "name": "stdout",
     "output_type": "stream",
     "text": [
      "Total number of points:  2\n",
      "Size of loader:  2\n",
      "torch.Size([1, 20, 6])\n",
      "torch.Size([1, 20, 440, 2048, 6])\n"
     ]
    }
   ],
   "source": [
    "loader_tr = loader.get_loader(dataset_tr, batch_size=1)\n",
    "for ps, rad in loader_tr:\n",
    "    print(ps.shape)\n",
    "    print(rad.shape)\n",
    "    break"
   ]
  },
  {
   "cell_type": "code",
   "execution_count": 9,
   "metadata": {},
   "outputs": [
    {
     "name": "stdout",
     "output_type": "stream",
     "text": [
      "Total number of points:  2\n",
      "Size of loader:  2\n",
      "torch.Size([20, 6]) torch.Size([20, 440, 2048, 6])\n",
      "torch.Size([20, 6]) torch.Size([20, 440, 2048, 6])\n",
      "epoch : 1/1,\n",
      "\tloss_avg = 1025.950439214706421,\n",
      "\tloss_z = 1026.627365291118622,\n",
      "\tloss_j = 0.676923990249634\n"
     ]
    },
    {
     "ename": "AttributeError",
     "evalue": "",
     "output_type": "error",
     "traceback": [
      "\u001b[0;31m---------------------------------------------------------------------------\u001b[0m",
      "\u001b[0;31mAttributeError\u001b[0m                            Traceback (most recent call last)",
      "\u001b[0;32m<ipython-input-9-2a2995d9c54e>\u001b[0m in \u001b[0;36m<module>\u001b[0;34m()\u001b[0m\n\u001b[1;32m     18\u001b[0m                \u001b[0mtest_epoch\u001b[0m\u001b[0;34m=\u001b[0m\u001b[0;36m25\u001b[0m\u001b[0;34m,\u001b[0m\u001b[0;34m\u001b[0m\u001b[0m\n\u001b[1;32m     19\u001b[0m                \u001b[0mtest_pointcloud\u001b[0m\u001b[0;34m=\u001b[0m\u001b[0mtest_pointcloud\u001b[0m\u001b[0;34m,\u001b[0m \u001b[0mlog_plots\u001b[0m\u001b[0;34m=\u001b[0m\u001b[0;32mNone\u001b[0m\u001b[0;34m,\u001b[0m\u001b[0;34m\u001b[0m\u001b[0m\n\u001b[0;32m---> 20\u001b[0;31m                path_to_models='./RESmodels_freia/')\n\u001b[0m",
      "\u001b[0;32m~/insitu_particles/InSituML/model/model_cINN.py\u001b[0m in \u001b[0;36mtrain_\u001b[0;34m(self, dataset_tr, dataset_val, optimizer, epochs, batch_size, test_epoch, test_pointcloud, log_plots, path_to_models)\u001b[0m\n\u001b[1;32m    198\u001b[0m                               \u001b[0msum\u001b[0m\u001b[0;34m(\u001b[0m\u001b[0mloss_z\u001b[0m\u001b[0;34m)\u001b[0m\u001b[0;34m/\u001b[0m\u001b[0mlen\u001b[0m\u001b[0;34m(\u001b[0m\u001b[0mloss_z\u001b[0m\u001b[0;34m)\u001b[0m\u001b[0;34m,\u001b[0m\u001b[0;34m\u001b[0m\u001b[0m\n\u001b[1;32m    199\u001b[0m                               sum(loss_j)/len(loss_j)))\n\u001b[0;32m--> 200\u001b[0;31m                 \u001b[0mself\u001b[0m\u001b[0;34m.\u001b[0m\u001b[0mvalidation\u001b[0m\u001b[0;34m(\u001b[0m\u001b[0mdataset_val\u001b[0m\u001b[0;34m,\u001b[0m \u001b[0mdataset_tr\u001b[0m\u001b[0;34m.\u001b[0m\u001b[0mvmin\u001b[0m\u001b[0;34m,\u001b[0m \u001b[0mdataset_tr\u001b[0m\u001b[0;34m.\u001b[0m\u001b[0mvmax\u001b[0m\u001b[0;34m,\u001b[0m \u001b[0mbatch_size\u001b[0m\u001b[0;34m)\u001b[0m\u001b[0;34m\u001b[0m\u001b[0m\n\u001b[0m\u001b[1;32m    201\u001b[0m \u001b[0;34m\u001b[0m\u001b[0m\n\u001b[1;32m    202\u001b[0m     \u001b[0;32mdef\u001b[0m \u001b[0mvalidation\u001b[0m\u001b[0;34m(\u001b[0m\u001b[0mself\u001b[0m\u001b[0;34m,\u001b[0m \u001b[0mdataset_val\u001b[0m\u001b[0;34m,\u001b[0m \u001b[0mvmin\u001b[0m\u001b[0;34m,\u001b[0m \u001b[0mvmax\u001b[0m\u001b[0;34m,\u001b[0m \u001b[0mbatch_size\u001b[0m\u001b[0;34m)\u001b[0m\u001b[0;34m:\u001b[0m\u001b[0;34m\u001b[0m\u001b[0m\n",
      "\u001b[0;32m~/.local/lib/python3.6/site-packages/torch/utils/data/dataset.py\u001b[0m in \u001b[0;36m__getattr__\u001b[0;34m(self, attribute_name)\u001b[0m\n\u001b[1;32m     81\u001b[0m             \u001b[0;32mreturn\u001b[0m \u001b[0mfunction\u001b[0m\u001b[0;34m\u001b[0m\u001b[0m\n\u001b[1;32m     82\u001b[0m         \u001b[0;32melse\u001b[0m\u001b[0;34m:\u001b[0m\u001b[0;34m\u001b[0m\u001b[0m\n\u001b[0;32m---> 83\u001b[0;31m             \u001b[0;32mraise\u001b[0m \u001b[0mAttributeError\u001b[0m\u001b[0;34m\u001b[0m\u001b[0m\n\u001b[0m\u001b[1;32m     84\u001b[0m \u001b[0;34m\u001b[0m\u001b[0m\n\u001b[1;32m     85\u001b[0m     \u001b[0;34m@\u001b[0m\u001b[0mclassmethod\u001b[0m\u001b[0;34m\u001b[0m\u001b[0m\n",
      "\u001b[0;31mAttributeError\u001b[0m: "
     ]
    }
   ],
   "source": [
    "model_f = model_cINN.PC_NF(dim_condition=440*2048*6,\n",
    "                 dim_input=6,\n",
    "                 num_coupling_layers=1,\n",
    "                 num_linear_layers=1,\n",
    "                 hidden_size=32,\n",
    "                 device='cuda',\n",
    "                 enable_wandb=False)\n",
    "\n",
    "optimizer = torch.optim.Adam(model_f.trainable_parameters, lr=1e-3, betas=(0.8, 0.9),\n",
    "                             eps=1e-6, weight_decay=2e-5)\n",
    "test_pointcloud = '../simulations/data/data_npy/training_data_npy/Track_1.017e-08_2.008e-08_1.778e-03_2.556e-03/Track_1.017e-08_2.008e-08_1.778e-03_2.556e-03-UndMid.npy'\n",
    "\n",
    "model_f.train_(dataset_tr,\n",
    "               dataset_tr,\n",
    "               optimizer,\n",
    "               epochs=1,\n",
    "               batch_size=1,\n",
    "               test_epoch=25,\n",
    "               test_pointcloud=test_pointcloud, log_plots=None,\n",
    "               path_to_models='./RESmodels_freia/')"
   ]
  },
  {
   "cell_type": "code",
   "execution_count": 1,
   "metadata": {},
   "outputs": [
    {
     "name": "stdout",
     "output_type": "stream",
     "text": [
      "Iteration:  68500\n",
      "float32\n"
     ]
    }
   ],
   "source": [
    "import openpmd_api as io\n",
    "import numpy as np\n",
    "\n",
    "filename = \"./from_cloud/simData_68500.bp\"\n",
    "series = io.Series(filename,\n",
    "                       io.Access.read_only)\n",
    "print('Iteration: ',filename.split('.bp')[0].split('_')[-1])\n",
    "i = series.iterations[int(filename.split('.bp')[0].split('_')[-1])]\n",
    "\n",
    "particles = i.particles[\"b_all\"]\n",
    "particle_tensor = np.stack((particles[\"position\"][\"x\"],\n",
    "                        particles[\"position\"][\"y\"],\n",
    "                        particles[\"position\"][\"z\"],\n",
    "                        particles[\"momentum\"][\"x\"],\n",
    "                        particles[\"momentum\"][\"y\"],\n",
    "                        particles[\"momentum\"][\"z\"]), axis=-1)\n",
    "\n",
    "print(particle_tensor.dtype)"
   ]
  },
  {
   "cell_type": "code",
   "execution_count": null,
   "metadata": {},
   "outputs": [],
   "source": []
  }
 ],
 "metadata": {
  "kernelspec": {
   "display_name": "Python 3 (ipykernel)",
   "language": "python",
   "name": "python3"
  },
  "language_info": {
   "codemirror_mode": {
    "name": "ipython",
    "version": 3
   },
   "file_extension": ".py",
   "mimetype": "text/x-python",
   "name": "python",
   "nbconvert_exporter": "python",
   "pygments_lexer": "ipython3",
   "version": "3.10.4"
  }
 },
 "nbformat": 4,
 "nbformat_minor": 4
}
