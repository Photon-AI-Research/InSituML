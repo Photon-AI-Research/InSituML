{
 "cells": [
  {
   "cell_type": "code",
   "execution_count": null,
   "id": "f2ee6883",
   "metadata": {},
   "outputs": [],
   "source": [
    "import os\n",
    "from mpi4py import MPI\n",
    "import openpmd_api as io\n",
    "import numpy as np\n",
    "import matplotlib.pyplot as plt"
   ]
  },
  {
   "cell_type": "code",
   "execution_count": null,
   "id": "39b611d4",
   "metadata": {},
   "outputs": [],
   "source": [
    "import torch\n",
    "torch.__version__"
   ]
  },
  {
   "cell_type": "code",
   "execution_count": null,
   "id": "d42478f2",
   "metadata": {},
   "outputs": [],
   "source": []
  },
  {
   "cell_type": "code",
   "execution_count": null,
   "id": "1d5c7b58",
   "metadata": {},
   "outputs": [],
   "source": [
    "simdir = \"/bigdata/hplsim/production/KHI_for_GB_MR/runs/004_KHI_withRad_randomInit_seed_12\"\n",
    "simdir = \"/bigdata/hplsim/aipp/SC24_PIConGPU-Continual-Learning/03-30_learning-rate-scaling-with-ranks_chamfersdistance_fix-gpu-volume/24-nodes_full-picongpu-data/\"\n",
    "\n",
    "#simdir = \"/bigdata/hplsim/production/KHI_for_GB_MR/runs/002_KHI_withRad_randomInit\"\n",
    "def loadRad(t, simdir=simdir):\n",
    "    radFile = \"/\".join((simdir, \"simOutput/radiationOpenPMD/e_radAmplitudes_{}.bp5\"))\n",
    "    radFile = radFile.format(t)\n",
    "    rad = io.Series(radFile, io.Access.read_only)\n",
    "    it = rad.iterations[t]\n",
    "    #for i in it.meshes.items():\n",
    "    #    print(i)\n",
    "    dd = tuple( (it.meshes[\"DetectorDirection\"][d][:, 0,0] for d in (\"x\", \"y\", \"z\") ) )\n",
    "    df = it.meshes[\"DetectorFrequency\"][\"omega\"][0, :, 0]\n",
    "    amp = tuple( (tuple ((it.meshes[\"Amplitude\"][\"_\".join((d, c))][:] for c in (\"Re\", \"Im\"))) for d in (\"x\", \"y\", \"z\") ))\n",
    "    ampd = tuple( it.meshes[\"Amplitude_distributed\"][d][:] for d in (\"x\", \"y\", \"z\") )\n",
    "    rad.flush()\n",
    "    dd = np.stack(dd)\n",
    "    ampd = np.stack(ampd)\n",
    "    amp = tuple( (ampx[0] + 1j*ampx[1]) for ampx in amp )\n",
    "    amp = np.stack(amp)\n",
    "    return dd, df, amp, ampd\n",
    "\n",
    "def loadRadDDc(t, ddc):  \n",
    "    radFile = \"/\".join((simdir, \"simOutput/radiationOpenPMD/e_radAmplitudes_{}.bp5\"))\n",
    "    radFile = radFile.format(t)\n",
    "    rad = io.Series(radFile, io.Access.read_only)\n",
    "    it = rad.iterations[t]\n",
    "    #for i in it.meshes.items():\n",
    "    #    print(i)\n",
    "    df = it.meshes[\"DetectorFrequency\"][\"omega\"][0, :, 0]\n",
    "    amp = tuple( (tuple ((it.meshes[\"Amplitude\"][\"_\".join((d, c))][ddz, :] for c in (\"Re\", \"Im\"))) for d in (\"x\", \"y\", \"z\") ))\n",
    "    ampd = tuple( it.meshes[\"Amplitude_distributed\"][d][:, ddz, :] for d in (\"x\", \"y\", \"z\") )\n",
    "    rad.flush()\n",
    "    ampd = np.stack(ampd)\n",
    "    amp = tuple( (ampx[0] + 1j*ampx[1]) for ampx in amp )\n",
    "    amp = np.stack(amp)\n",
    "    return df, amp, ampd\n",
    "\n",
    "def intens(amp):\n",
    "    return np.abs(np.sum(amp*amp, axis = 0))    "
   ]
  },
  {
   "cell_type": "code",
   "execution_count": null,
   "id": "3f8bdb1e",
   "metadata": {},
   "outputs": [],
   "source": [
    "t = 950\n",
    "dd, df, amp, ampd = loadRad(t)\n",
    "I = intens(amp)"
   ]
  },
  {
   "cell_type": "code",
   "execution_count": null,
   "id": "b0144695",
   "metadata": {},
   "outputs": [],
   "source": [
    "dd1, df1, amp1, ampd1 = loadRad(1000)"
   ]
  },
  {
   "cell_type": "code",
   "execution_count": null,
   "id": "d716b7a1",
   "metadata": {},
   "outputs": [],
   "source": [
    "amp01 = amp - amp1\n",
    "I01 = intens(amp01)"
   ]
  },
  {
   "cell_type": "code",
   "execution_count": null,
   "id": "b9fe9f82",
   "metadata": {},
   "outputs": [],
   "source": []
  },
  {
   "cell_type": "code",
   "execution_count": null,
   "id": "af350a99",
   "metadata": {},
   "outputs": [],
   "source": []
  },
  {
   "cell_type": "code",
   "execution_count": null,
   "id": "fb78ca21",
   "metadata": {},
   "outputs": [],
   "source": []
  },
  {
   "cell_type": "code",
   "execution_count": null,
   "id": "6e459db6",
   "metadata": {},
   "outputs": [],
   "source": []
  },
  {
   "cell_type": "code",
   "execution_count": null,
   "id": "40c7be85",
   "metadata": {},
   "outputs": [],
   "source": [
    "for d, det in zip((\"x\" ,\"y\", \"z\"), dd):\n",
    "    plt.plot(det, label=d)\n",
    "plt.legend()\n",
    "plt.show()"
   ]
  },
  {
   "cell_type": "code",
   "execution_count": null,
   "id": "dac951d5",
   "metadata": {},
   "outputs": [],
   "source": [
    "ddz = 4\n",
    "phi = np.arctan(dd[0][:ddz]/dd[1][:ddz]) / np.pi *180\n",
    "phi[-1] *= -1\n",
    "phi"
   ]
  },
  {
   "cell_type": "code",
   "execution_count": null,
   "id": "88faa54e",
   "metadata": {},
   "outputs": [],
   "source": [
    "plt.ylabel(\"DetectorDirection phi\")\n",
    "plt.xlabel(\"Frequency\")\n",
    "#plt.semilogx()\n",
    "plt.imshow((np.log(I[:ddz,0:450,0])), aspect=\"auto\")\n",
    "plt.show()\n",
    "plt.imshow(np.log(I01[:ddz,0:450,0]), extent=(0, 450, 90, 0), aspect=\"auto\")"
   ]
  },
  {
   "cell_type": "code",
   "execution_count": null,
   "id": "26887092",
   "metadata": {},
   "outputs": [],
   "source": [
    "for i in range(ddz):\n",
    "    plt.plot(I01[i,200:450,0])\n",
    "plt.semilogy()\n",
    "plt.show()\n",
    "ddc = 0\n",
    "plt.plot(I[ddc,200:450,0])\n",
    "plt.plot(np.mean(I01[:,200:450,0], axis=0))\n",
    "plt.semilogy()\n",
    "plt.show()"
   ]
  },
  {
   "cell_type": "code",
   "execution_count": null,
   "id": "980cfaea",
   "metadata": {},
   "outputs": [],
   "source": [
    "Id = np.abs(np.sum(ampd*ampd, axis = 0))"
   ]
  },
  {
   "cell_type": "code",
   "execution_count": null,
   "id": "845c2492",
   "metadata": {},
   "outputs": [],
   "source": [
    "plt.ylabel(\"GPU Box\")\n",
    "plt.xlabel(\"Frequency\")\n",
    "plt.imshow(np.log(Id[:,ddc, 300:450]), extent=(300, 450, 0, 64), aspect=\"auto\")"
   ]
  },
  {
   "cell_type": "code",
   "execution_count": null,
   "id": "1a5cf5ef",
   "metadata": {},
   "outputs": [],
   "source": [
    "for i in range(16):\n",
    "    plt.plot(Id[i,ddc, 200:450])\n",
    "plt.semilogy()\n",
    "plt.show()"
   ]
  },
  {
   "cell_type": "code",
   "execution_count": null,
   "id": "bdf1bb7b",
   "metadata": {},
   "outputs": [],
   "source": [
    "partFile = \"/bigdata/hplsim/production/KHI_for_GB_MR/runs/002_KHI_withRad_randomInit/simOutput/openPMD/simData_00{}.bp\"\n",
    "part = io.Series(partFile.format(t), io.Access_Type.read_only)"
   ]
  },
  {
   "cell_type": "code",
   "execution_count": null,
   "id": "98b3f090",
   "metadata": {},
   "outputs": [],
   "source": [
    "partit = part.iterations[t]\n",
    "extent = tuple(( partit.particles[\"e_all\"].particle_patches[\"extent\"][d].load() for d in (\"x\", \"y\", \"z\")))\n",
    "offset = tuple(( partit.particles[\"e_all\"].particle_patches[\"offset\"][d].load() for d in (\"x\", \"y\", \"z\")))\n",
    "\n",
    "part.flush()\n",
    "extent = np.stack(extent)\n",
    "offset = np.stack(offset)"
   ]
  },
  {
   "cell_type": "code",
   "execution_count": null,
   "id": "6ca473d6",
   "metadata": {},
   "outputs": [],
   "source": [
    "np.sum(Id[:, ddc, 200] > 10)"
   ]
  },
  {
   "cell_type": "code",
   "execution_count": null,
   "id": "f68529b1",
   "metadata": {},
   "outputs": [],
   "source": [
    "tib = np.sum(Id[:,ddc, 300:450], axis=-1)\n",
    "plt.scatter(offset[0], offset[1], c=np.log(tib))"
   ]
  },
  {
   "cell_type": "code",
   "execution_count": null,
   "id": "474043fb",
   "metadata": {},
   "outputs": [],
   "source": [
    "r_offset = offset * np.array( tuple( partit.get_attribute(v) for v in (\"cell_width\", \"cell_height\", \"cell_depth\") ))[:, np.newaxis]\n",
    "r_offset = r_offset.T"
   ]
  },
  {
   "cell_type": "code",
   "execution_count": null,
   "id": "865c008e",
   "metadata": {},
   "outputs": [],
   "source": [
    "def ampdbs(hib):\n",
    "    print(np.sum(hib))\n",
    "    iteration = t\n",
    "    phase_shift = np.exp(-1.j * df[np.newaxis, np.newaxis, :] * (iteration + np.dot(r_offset[hib], dd)[:, :, np.newaxis] / 1.0))\n",
    "    #phase_shift = 1.\n",
    "    #print(phase_shift.shape, ampd[:, hib, :, :].shape)\n",
    "    ampdhib = np.sum(ampd[:, hib, :, :]/phase_shift, axis=1)\n",
    "    Ihib = np.abs(np.sum(ampdhib*ampdhib, axis = 0))\n",
    "    return Ihib\n",
    "\n",
    "minOmega = 0\n",
    "#plt.plot(ampdbs(np.logical_and(offset[1] > 300, offset[1] < 430))[ddc, minOmega:450], label=\"vort\")\n",
    "plt.plot(ampdbs(np.logical_and(offset[1] > 180, offset[1] < 300))[ddc, minOmega:450], label=\"central\")\n",
    "plt.plot(ampdbs(np.logical_or(offset[1] < 50, offset[1] > 430))[ddc, minOmega:450], label=\"split\")\n",
    "#plt.plot(ampdbs(np.full(offset[0].shape, True))[ddc, minOmega:450], label=\"all\")\n",
    "#plt.plot(I01[ddc, minOmega:450], label=\"total\", linestyle='dashed')\n",
    "#plt.plot(ampdbs(Id[:, ddc, 200] < 10)[ddc, minOmega:450], label=\"signal\")\n",
    "#plt.plot(ampdbs(Id[:, ddc, 200] > 10)[ddc, minOmega:450], label=\"flat\")\n",
    "plt.legend()\n",
    "plt.semilogy()\n",
    "plt.show()"
   ]
  },
  {
   "cell_type": "code",
   "execution_count": null,
   "id": "72ca40dc",
   "metadata": {
    "scrolled": true
   },
   "outputs": [],
   "source": [
    "dfl = []\n",
    "ampl = []\n",
    "ampdl = []\n",
    "for t in range(10, 1000):\n",
    "    print(t, \"...\")\n",
    "    dft, ampt, ampdt = loadRadDDc(t, ddc)\n",
    "    dfl.append(dft)\n",
    "    ampl.append(ampt)\n",
    "    ampdl.append(ampdt)"
   ]
  },
  {
   "cell_type": "code",
   "execution_count": null,
   "id": "825ef159",
   "metadata": {},
   "outputs": [],
   "source": [
    "dfl = np.stack(dfl)\n",
    "ampl = np.stack(ampl)\n",
    "ampdl = np.stack(ampdl)"
   ]
  },
  {
   "cell_type": "code",
   "execution_count": null,
   "id": "715283d3",
   "metadata": {},
   "outputs": [],
   "source": [
    "ampdl.shape"
   ]
  },
  {
   "cell_type": "code",
   "execution_count": null,
   "id": "4b3d76bb",
   "metadata": {},
   "outputs": [],
   "source": [
    "Il = intens(ampl.transpose((1,0,2,3)))\n",
    "print(Il.shape)\n",
    "T0 = 10\n",
    "#Il0 = intens((ampl - ampl[T0]).transpose((1,0,2,3)))\n",
    "Il0 = intens((ampl[1:] - ampl[:-1]).transpose((1,0,2,3)))\n"
   ]
  },
  {
   "cell_type": "code",
   "execution_count": null,
   "id": "667f0890",
   "metadata": {},
   "outputs": [],
   "source": [
    "plt.imshow(np.log(Il[:,200:450,0]), aspect=\"auto\")\n",
    "plt.show()\n",
    "plt.imshow(np.log(Il0[T0:,200:450,0]), aspect=\"auto\")"
   ]
  },
  {
   "cell_type": "code",
   "execution_count": null,
   "id": "dca49016",
   "metadata": {},
   "outputs": [],
   "source": [
    "def ampdlbs(hib, Tmin=None, Tmax=None):\n",
    "    ampdhib = np.sum(ampdl[Tmin:Tmax, :, hib, :], axis=(0,2))\n",
    "    Ihib = np.abs(np.sum(ampdhib*ampdhib, axis = 0))\n",
    "    return Ihib"
   ]
  },
  {
   "cell_type": "code",
   "execution_count": null,
   "id": "77143d86",
   "metadata": {},
   "outputs": [],
   "source": [
    "T = (T0,T0+100)\n",
    "plt.plot(ampdlbs(np.full(offset[0].shape, True), *T)[minOmega:450], label=\"all\")\n",
    "plt.plot(Il0[-1, minOmega:450], label=\"total\", linestyle='dashed')\n",
    "plt.plot(ampdlbs(Id[:, ddc, 200] < 10, *T)[minOmega:450], label=\"signal\")\n",
    "plt.plot(ampdlbs(Id[:, ddc, 200] > 10, *T)[minOmega:450], label=\"flat\")\n",
    "plt.legend()\n",
    "plt.semilogy()\n",
    "plt.show()"
   ]
  },
  {
   "cell_type": "code",
   "execution_count": null,
   "id": "ff39915f",
   "metadata": {},
   "outputs": [],
   "source": [
    "Id.shape"
   ]
  },
  {
   "cell_type": "code",
   "execution_count": null,
   "id": "42350d23",
   "metadata": {
    "scrolled": false
   },
   "outputs": [],
   "source": [
    "!ls /bigdata/hplsim/production/KHI_for_GB_MR/runs/\n"
   ]
  },
  {
   "cell_type": "code",
   "execution_count": null,
   "id": "2394ebe2",
   "metadata": {},
   "outputs": [],
   "source": []
  },
  {
   "cell_type": "code",
   "execution_count": null,
   "id": "39fc5e17",
   "metadata": {},
   "outputs": [],
   "source": []
  }
 ],
 "metadata": {
  "kernelspec": {
   "display_name": "caarenv",
   "language": "python",
   "name": "caarenv"
  },
  "language_info": {
   "codemirror_mode": {
    "name": "ipython",
    "version": 3
   },
   "file_extension": ".py",
   "mimetype": "text/x-python",
   "name": "python",
   "nbconvert_exporter": "python",
   "pygments_lexer": "ipython3",
   "version": "3.10.4"
  }
 },
 "nbformat": 4,
 "nbformat_minor": 5
}
