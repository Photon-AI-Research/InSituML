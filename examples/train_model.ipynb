{
 "cells": [
  {
   "cell_type": "code",
   "execution_count": 2,
   "metadata": {},
   "outputs": [],
   "source": [
    "import sys\n",
    "sys.path.append('../main/ModelHelpers/cINN/model')\n",
    "sys.path.append('../main/ModelHelpers/cINN/model/modules')\n",
    "\n",
    "import dataset\n",
    "import loader\n",
    "import model_cINN\n",
    "\n",
    "import torch"
   ]
  },
  {
   "cell_type": "code",
   "execution_count": 5,
   "metadata": {},
   "outputs": [],
   "source": [
    "paths_to_PS = [\"../from_cloud/simData_68500.bp\", \"../from_cloud/simData_68500.bp\"]\n",
    "paths_to_radiation = [\"../from_cloud/b_radAmplitudes_68500_0_0_0.h5\", \"../from_cloud/b_radAmplitudes_68500_0_0_0.h5\"]"
   ]
  },
  {
   "cell_type": "code",
   "execution_count": 6,
   "metadata": {
    "tags": []
   },
   "outputs": [
    {
     "name": "stdout",
     "output_type": "stream",
     "text": [
      "Number of simulations:  2\n",
      "Number of chunks:  10\n",
      "Get min/max from phase space data...\n",
      "PS Minima: \n",
      "\t tensor([ 0.0000,  0.0073,  0.0000, -0.5310,  0.0000, -0.1218])\n",
      "PS Maxima: \n",
      "\t tensor([5.7769e+02, 9.7963e-01, 9.9243e-01, 9.1658e-36, 4.1451e+01, 1.3520e-01])\n",
      "Get min/max from radiation data...\n",
      "PS Minima: \n",
      "\t tensor([-326833.2500, -326833.2500, -326833.2500, -326833.2500, -326833.2500,\n",
      "        -326833.2500])\n",
      "PS Maxima: \n",
      "\t tensor([310444.7500, 310444.7500, 310444.7500, 310444.7500, 310444.7500,\n",
      "        310444.7500])\n"
     ]
    }
   ],
   "source": [
    "dataset_tr = dataset.PCDataset(items_phase_space=paths_to_PS,\n",
    "                 items_radiation=paths_to_radiation,\n",
    "                 num_points=100,\n",
    "                 num_files=-1,\n",
    "                 chunk_size=20,\n",
    "                 normalize=True, a=0., b=1.)"
   ]
  },
  {
   "cell_type": "code",
   "execution_count": 7,
   "metadata": {},
   "outputs": [
    {
     "name": "stdout",
     "output_type": "stream",
     "text": [
      "Total number of points:  2\n",
      "Size of loader:  2\n",
      "torch.Size([1, 20, 6])\n",
      "torch.Size([1, 20, 440, 2048, 6])\n"
     ]
    }
   ],
   "source": [
    "loader_tr = loader.get_loader(dataset_tr, batch_size=1)\n",
    "for ps, rad in loader_tr:\n",
    "    print(ps.shape)\n",
    "    print(rad.shape)\n",
    "    break"
   ]
  },
  {
   "cell_type": "code",
   "execution_count": 8,
   "metadata": {},
   "outputs": [
    {
     "name": "stdout",
     "output_type": "stream",
     "text": [
      "Total number of points:  2\n",
      "Size of loader:  2\n",
      "epoch : 1/1,\n",
      "\tloss_avg = 3316.924618244171143,\n",
      "\tloss_z = 3319.889225721359253,\n",
      "\tloss_j = 2.964508330915123\n",
      "Total number of points:  2\n",
      "Size of loader:  2\n",
      "Validation:\n",
      "\tloss_avg = 1070.018920898437500,\n",
      "\tloss_z = 1073.984497070312500,\n",
      "\tloss_j = 3.965520977973938\n"
     ]
    }
   ],
   "source": [
    "model_f = model_cINN.PC_NF(dim_condition=440*2048*6,\n",
    "                 dim_input=6,\n",
    "                 num_coupling_layers=1,\n",
    "                 num_linear_layers=1,\n",
    "                 hidden_size=32,\n",
    "                 device='cuda',\n",
    "                 enable_wandb=False)\n",
    "\n",
    "optimizer = torch.optim.Adam(model_f.trainable_parameters, lr=1e-3, betas=(0.8, 0.9),\n",
    "                             eps=1e-6, weight_decay=2e-5)\n",
    "test_pointcloud = '../simulations/data/data_npy/training_data_npy/Track_1.017e-08_2.008e-08_1.778e-03_2.556e-03/Track_1.017e-08_2.008e-08_1.778e-03_2.556e-03-UndMid.npy'\n",
    "\n",
    "model_f.train_(dataset_tr,\n",
    "               dataset_tr,\n",
    "               optimizer,\n",
    "               epochs=1,\n",
    "               batch_size=1,\n",
    "               test_epoch=25,\n",
    "               test_pointcloud=test_pointcloud, log_plots=None,\n",
    "               path_to_models='./RESmodels_freia/')"
   ]
  }
 ],
 "metadata": {
  "kernelspec": {
   "display_name": "Python 3",
   "language": "python",
   "name": "python3"
  },
  "language_info": {
   "codemirror_mode": {
    "name": "ipython",
    "version": 3
   },
   "file_extension": ".py",
   "mimetype": "text/x-python",
   "name": "python",
   "nbconvert_exporter": "python",
   "pygments_lexer": "ipython3",
   "version": "3.6.5"
  }
 },
 "nbformat": 4,
 "nbformat_minor": 4
}
